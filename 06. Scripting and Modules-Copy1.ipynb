{
 "cells": [
  {
   "cell_type": "code",
   "execution_count": 4,
   "metadata": {},
   "outputs": [],
   "source": [
    "?random"
   ]
  },
  {
   "cell_type": "code",
   "execution_count": 7,
   "metadata": {},
   "outputs": [
    {
     "name": "stdout",
     "output_type": "stream",
     "text": [
      "5\n",
      "5\n",
      "4\n",
      "3\n",
      "6\n",
      "5\n",
      "4\n",
      "6\n",
      "1\n",
      "1\n"
     ]
    }
   ],
   "source": [
    "\n",
    "for i in range(10):\n",
    "    print(random.randint(1,6))\n"
   ]
  },
  {
   "cell_type": "code",
   "execution_count": 5,
   "metadata": {},
   "outputs": [
    {
     "data": {
      "text/plain": [
       "['BPF',\n",
       " 'LOG4',\n",
       " 'NV_MAGICCONST',\n",
       " 'RECIP_BPF',\n",
       " 'Random',\n",
       " 'SG_MAGICCONST',\n",
       " 'SystemRandom',\n",
       " 'TWOPI',\n",
       " '_ONE',\n",
       " '_Sequence',\n",
       " '_Set',\n",
       " '__all__',\n",
       " '__builtins__',\n",
       " '__cached__',\n",
       " '__doc__',\n",
       " '__file__',\n",
       " '__loader__',\n",
       " '__name__',\n",
       " '__package__',\n",
       " '__spec__',\n",
       " '_accumulate',\n",
       " '_acos',\n",
       " '_bisect',\n",
       " '_ceil',\n",
       " '_cos',\n",
       " '_e',\n",
       " '_exp',\n",
       " '_floor',\n",
       " '_index',\n",
       " '_inst',\n",
       " '_isfinite',\n",
       " '_log',\n",
       " '_os',\n",
       " '_pi',\n",
       " '_random',\n",
       " '_repeat',\n",
       " '_sha512',\n",
       " '_sin',\n",
       " '_sqrt',\n",
       " '_test',\n",
       " '_test_generator',\n",
       " '_urandom',\n",
       " '_warn',\n",
       " 'betavariate',\n",
       " 'choice',\n",
       " 'choices',\n",
       " 'expovariate',\n",
       " 'gammavariate',\n",
       " 'gauss',\n",
       " 'getrandbits',\n",
       " 'getstate',\n",
       " 'lognormvariate',\n",
       " 'normalvariate',\n",
       " 'paretovariate',\n",
       " 'randbytes',\n",
       " 'randint',\n",
       " 'random',\n",
       " 'randrange',\n",
       " 'sample',\n",
       " 'seed',\n",
       " 'setstate',\n",
       " 'shuffle',\n",
       " 'triangular',\n",
       " 'uniform',\n",
       " 'vonmisesvariate',\n",
       " 'weibullvariate']"
      ]
     },
     "execution_count": 5,
     "metadata": {},
     "output_type": "execute_result"
    }
   ],
   "source": [
    "dir(random)"
   ]
  },
  {
   "cell_type": "code",
   "execution_count": 11,
   "metadata": {},
   "outputs": [
    {
     "name": "stdout",
     "output_type": "stream",
     "text": [
      "50.38\n"
     ]
    }
   ],
   "source": [
    "# 6.1 Games of Chance\n",
    "import random\n",
    "# A. Simulate flipping a coin 100 times, \n",
    "# then print the percentage of results that were \"heads\"\n",
    "\n",
    "heads = 0\n",
    "tails = 1\n",
    "\n",
    "head_count = 0\n",
    "\n",
    "for i in range(10000):\n",
    "    if random.randint(heads,tails) == heads:\n",
    "        head_count += 1\n",
    "\n",
    "print(head_count/100.)"
   ]
  },
  {
   "cell_type": "code",
   "execution_count": 25,
   "metadata": {},
   "outputs": [
    {
     "name": "stdout",
     "output_type": "stream",
     "text": [
      "7\n"
     ]
    }
   ],
   "source": [
    "side = \"\"\n",
    "flips = 0\n",
    "sides = [\"blue\", \"blue\", \"blue\", \"blue\", \"yellow\", \"blue\"]\n",
    "\n",
    "while side != \"yellow\":\n",
    "    side = random.choice(sides)\n",
    "    flips += 1\n",
    "\n",
    "print(flips)"
   ]
  },
  {
   "cell_type": "code",
   "execution_count": null,
   "metadata": {},
   "outputs": [],
   "source": []
  },
  {
   "cell_type": "code",
   "execution_count": null,
   "metadata": {},
   "outputs": [],
   "source": []
  },
  {
   "cell_type": "code",
   "execution_count": 13,
   "metadata": {},
   "outputs": [
    {
     "name": "stdout",
     "output_type": "stream",
     "text": [
      "blue\n",
      "blue\n",
      "blue\n",
      "blue\n",
      "blue\n",
      "blue\n",
      "blue\n",
      "blue\n",
      "blue\n",
      "blue\n"
     ]
    }
   ],
   "source": [
    "# B. Randomly choose an element until you choose \"yellow\", incrememting flips each time\n",
    "#    Print a message each time including how many flips have been executed and what the result was\n",
    "flips = 0\n",
    "sides = [\"blue\", \"blue\", \"blue\", \"blue\", \"yellow\", \"blue\"]\n",
    "\n",
    "for i in range(10):\n",
    "    print(random.choice(sides))\n",
    "    flips += 1"
   ]
  },
  {
   "cell_type": "code",
   "execution_count": null,
   "metadata": {},
   "outputs": [],
   "source": [
    "# C. Simulate a slot machine with the following rules:\n",
    "#    i. Each turn, the player loses 1 point and three random elements are chosen\n",
    "#    ii. If the three elements are all the same, the player wins 2 points\n",
    "#    iii. If all three elements are different, the player wins 5 points\n",
    "#    Continue taking turns until the player has 0 points or more than 10 points\n",
    "#    Each turn, print a message describing the outcome of the machine\n",
    "elements = [\"red\", \"green\", \"blue\"]\n",
    "player_points = 7"
   ]
  },
  {
   "cell_type": "code",
   "execution_count": 4,
   "metadata": {},
   "outputs": [],
   "source": [
    "# 6.2 GeoCoder Road Trip\n",
    "destinations = [\"Space Needle\",\n",
    "                \"Crater Lake\",\n",
    "                \"Golden Gate Bridge\",\n",
    "                \"Yosemite National Park\",\n",
    "                \"Las Vegas, Nevada\",\n",
    "                \"Grand Canyon National Park\",\n",
    "                \"Aspen, Colorado\",\n",
    "                \"Mount Rushmore\",\n",
    "                \"Yellowstone National Park\",\n",
    "                \"Sandpoint, Idaho\",\n",
    "                \"Banff National Park\",\n",
    "                \"Capilano Suspension Bridge\"]\n",
    "\n",
    "# A. Install and import the geocoder library: https://geocoder.readthedocs.io/index.html\n",
    "#    Then, print a statement describing the latitude and longitude of our first destination, Space Needle"
   ]
  },
  {
   "cell_type": "code",
   "execution_count": 12,
   "metadata": {},
   "outputs": [
    {
     "data": {
      "text/plain": [
       "[47.6205131, -122.34930359883187]"
      ]
     },
     "execution_count": 12,
     "metadata": {},
     "output_type": "execute_result"
    }
   ],
   "source": [
    "# g = geocoder.google('Mountain View, CA')\n",
    "# import geocoder\n",
    "g = geocoder.location(destinations[0])\n",
    "g.latlng"
   ]
  },
  {
   "cell_type": "code",
   "execution_count": 15,
   "metadata": {},
   "outputs": [
    {
     "data": {
      "text/plain": [
       "[-33.8698439, 151.2082848]"
      ]
     },
     "execution_count": 15,
     "metadata": {},
     "output_type": "execute_result"
    }
   ],
   "source": [
    "geocoder.location(\"Sydney Australia\").latlng"
   ]
  },
  {
   "cell_type": "code",
   "execution_count": 13,
   "metadata": {},
   "outputs": [],
   "source": [
    "?g.latlng"
   ]
  },
  {
   "cell_type": "code",
   "execution_count": null,
   "metadata": {},
   "outputs": [],
   "source": [
    "!pip install geocoder"
   ]
  },
  {
   "cell_type": "code",
   "execution_count": 20,
   "metadata": {},
   "outputs": [
    {
     "name": "stdout",
     "output_type": "stream",
     "text": [
      "CPU times: total: 0 ns\n",
      "Wall time: 0 ns\n",
      "The destination Las Vegas, Nevada is furthest south with latitude 36.1672559\n"
     ]
    }
   ],
   "source": [
    "%time\n",
    "# B. Find the farthest south destination (the result with the lowest latitude)\n",
    "\n",
    "# create a placeholder for furthest south and the lats/longs\n",
    "furthest_south = {\n",
    "    \"name\": \"Space Needle\"\n",
    "    ,\"lat\": 47.6205131\n",
    "}\n",
    "lats_lons = []\n",
    "\n",
    "# loop over all the destinations and find their lats/longs\n",
    "for destination in destinations:\n",
    "    result = geocoder.location(destination).latlng\n",
    "# Condition if lat is smaller than the presently smallest latitude, update furthest couth    \n",
    "    if result[0] < furthest_south['lat']:\n",
    "        furthest_south['name'] = destination\n",
    "#         furthest_south['lat'] = furthest_south['lat']\n",
    "        furthest_south['lat'] = result[0]\n",
    "\n",
    "# Print furthest south\n",
    "\n",
    "print(f\"The destination {furthest_south['name']} is furthest south with latitude {furthest_south['lat']}\")"
   ]
  },
  {
   "cell_type": "code",
   "execution_count": null,
   "metadata": {},
   "outputs": [],
   "source": [
    "# C. For each destination, describe the direction being traveled from the previous destination\n",
    "#    Hint: You can keep track of where we are using current_lat and current_lng variables\n",
    "#    If the next destination has a greater latitude, it means we're going North\n",
    "#    If the next destination has a greater longitude, it means we're going West\n",
    "#    Print a message in the following format: \"Next, we travel SouthWest to XXXXX\""
   ]
  },
  {
   "cell_type": "code",
   "execution_count": 21,
   "metadata": {},
   "outputs": [
    {
     "name": "stdout",
     "output_type": "stream",
     "text": [
      "Type your nameGP\n"
     ]
    }
   ],
   "source": [
    "name = input(\"Type your name\")"
   ]
  },
  {
   "cell_type": "code",
   "execution_count": 22,
   "metadata": {},
   "outputs": [
    {
     "data": {
      "text/plain": [
       "'GP'"
      ]
     },
     "execution_count": 22,
     "metadata": {},
     "output_type": "execute_result"
    }
   ],
   "source": [
    "name"
   ]
  },
  {
   "cell_type": "code",
   "execution_count": 30,
   "metadata": {},
   "outputs": [],
   "source": [
    "file = open(\"./to_do_list.txt\", \"a+\")\n"
   ]
  },
  {
   "cell_type": "code",
   "execution_count": 32,
   "metadata": {},
   "outputs": [
    {
     "data": {
      "text/plain": [
       "0"
      ]
     },
     "execution_count": 32,
     "metadata": {},
     "output_type": "execute_result"
    }
   ],
   "source": [
    "file.seek(0)"
   ]
  },
  {
   "cell_type": "code",
   "execution_count": 33,
   "metadata": {},
   "outputs": [
    {
     "data": {
      "text/plain": [
       "['Explain Python Good\\n', 'Seriously, explain python gooder']"
      ]
     },
     "execution_count": 33,
     "metadata": {},
     "output_type": "execute_result"
    }
   ],
   "source": [
    "file.readlines()"
   ]
  },
  {
   "cell_type": "code",
   "execution_count": 34,
   "metadata": {},
   "outputs": [
    {
     "name": "stdout",
     "output_type": "stream",
     "text": [
      "Welcome to ToDoVille! Here are your items:\n",
      "Explain Python Good\n",
      "\n",
      "Seriously, explain python gooder\n",
      "Awaiting further commands. [q] to quit, [a] to add new item, [p] to print list: a\n",
      "Type your todo below: Give up on Python and try Java instead\n",
      "Awaiting further commands. [q] to quit, [a] to add new item, [p] to print list: p\n",
      "Explain Python Good\n",
      "\n",
      "Seriously, explain python gooderGive up on Python and try Java instead\n",
      "\n",
      "Awaiting further commands. [q] to quit, [a] to add new item, [p] to print list: q\n"
     ]
    }
   ],
   "source": [
    "# 6.3 So Much To Do\n",
    "# Reading code can be just as important as writing code!\n",
    "# Add a comment to each line of this python script, attempting to explain what it does\n",
    "\n",
    "# opening in append mode to a file called to-do list\n",
    "with open(\"./to_do_list.txt\", \"a+\") as file:\n",
    "    \n",
    "    print(\"Welcome to ToDoVille! Here are your items:\")\n",
    "    \n",
    "    #????!!!! :'(\n",
    "    # start from the beginning\n",
    "    file.seek(0)\n",
    "    \n",
    "    # move all the lines into a list\n",
    "    lines = file.readlines()\n",
    "    \n",
    "    # looping over the list\n",
    "    for line in lines:\n",
    "        print(line)\n",
    "    \n",
    "    # loop\n",
    "    current_command = \"\"\n",
    "    while current_command != \"q\":\n",
    "        # instruct user to do something\n",
    "        current_command = input(\n",
    "            \"Awaiting further commands. [q] to quit, [a] to add new item, [p] to print list: \"\n",
    "        )\n",
    "        # add new item\n",
    "        if(current_command == \"a\"):\n",
    "            new_item = input(\"Type your todo below: \")\n",
    "            file.write(\"\\n\"+new_item)\n",
    "        # print the list\n",
    "        elif(current_command == \"p\"):\n",
    "            file.seek(0)\n",
    "            lines = file.readlines()\n",
    "            for line in lines:\n",
    "                print(line)"
   ]
  },
  {
   "cell_type": "code",
   "execution_count": null,
   "metadata": {},
   "outputs": [],
   "source": [
    "csvfile = open('eggs.csv', newline='')"
   ]
  },
  {
   "cell_type": "code",
   "execution_count": null,
   "metadata": {},
   "outputs": [],
   "source": [
    "import csv\n",
    "with open('eggs.csv', newline='') as csvfile:\n",
    "    spamreader = csv.reader(csvfile, delimiter=' ', quotechar='|')\n",
    "    for row in spamreader:\n",
    "        print(', '.join(row))"
   ]
  },
  {
   "cell_type": "code",
   "execution_count": null,
   "metadata": {},
   "outputs": [],
   "source": [
    "with open('eggs.csv', 'w', newline='') as csvfile:\n",
    "    spamwriter = csv.writer(csvfile, delimiter=' ',\n",
    "                            quotechar='|', quoting=csv.QUOTE_MINIMAL)\n",
    "    spamwriter.writerow(['Spam'] * 5 + ['Baked Beans'])\n",
    "    spamwriter.writerow(['Spam', 'Lovely Spam', 'Wonderful Spam'])"
   ]
  },
  {
   "cell_type": "code",
   "execution_count": 2,
   "metadata": {},
   "outputs": [],
   "source": [
    "employees = [\n",
    "  {\n",
    "    \"first_name\": \"Hennah\", \n",
    "    \"last_name\": \"Chadwick\",\n",
    "    \"job_title\": \"Vice President\",\n",
    "    \"hire_date\": 1985,\n",
    "    \"performance_review\": \"excellent\"\n",
    "  }, {\n",
    "    \"first_name\": \"Michael\", \n",
    "    \"last_name\": \"Bolton\",\n",
    "    \"job_title\": \"Programmer\",\n",
    "    \"hire_date\": 1995,\n",
    "    \"performance_review\": \"poor\"\n",
    "  }, {\n",
    "    \"first_name\": \"Ellesse\", \n",
    "    \"last_name\": \"Jaramillo\",\n",
    "    \"job_title\": \"Programmer\",\n",
    "    \"hire_date\": 1989,\n",
    "    \"performance_review\": \"poor\"\n",
    "  }, {\n",
    "    \"first_name\": \"Samir\", \n",
    "    \"last_name\": \"Nagheenanajar\",\n",
    "    \"job_title\": \"Programmer\",\n",
    "    \"hire_date\": 1974,\n",
    "    \"performance_review\": \"fair\"\n",
    "  }, {\n",
    "    \"first_name\": \"Milton\", \n",
    "    \"last_name\": \"Waddams\",\n",
    "    \"job_title\": \"Collator\",\n",
    "    \"hire_date\": 1974,\n",
    "    \"performance_review\": \"does he even work here?\"\n",
    "  }, {\n",
    "    \"first_name\": \"Bob\", \n",
    "    \"last_name\": \"Porter\",\n",
    "    \"job_title\": \"Consultant\",\n",
    "    \"hire_date\": 1999,\n",
    "    \"performance_review\": \"excellent\"\n",
    "  }, {\n",
    "    \"first_name\": \"Bob\", \n",
    "    \"last_name\": \"Slydell\",\n",
    "    \"job_title\": \"Consultant\",\n",
    "    \"hire_date\": 1999,\n",
    "    \"performance_review\": \"excellent\"\n",
    "  }\n",
    "]"
   ]
  },
  {
   "cell_type": "code",
   "execution_count": 1,
   "metadata": {},
   "outputs": [
    {
     "ename": "NameError",
     "evalue": "name 'employees' is not defined",
     "output_type": "error",
     "traceback": [
      "\u001b[1;31m---------------------------------------------------------------------------\u001b[0m",
      "\u001b[1;31mNameError\u001b[0m                                 Traceback (most recent call last)",
      "Cell \u001b[1;32mIn[1], line 1\u001b[0m\n\u001b[1;32m----> 1\u001b[0m \u001b[43memployees\u001b[49m\n",
      "\u001b[1;31mNameError\u001b[0m: name 'employees' is not defined"
     ]
    }
   ],
   "source": [
    "employees"
   ]
  },
  {
   "cell_type": "code",
   "execution_count": 1,
   "metadata": {},
   "outputs": [],
   "source": [
    "# 6.4 Writing to CSV\n",
    "employees = [\n",
    "  {\n",
    "    \"first_name\": \"Hennah\", \n",
    "    \"last_name\": \"Chadwick\",\n",
    "    \"job_title\": \"Vice President\",\n",
    "    \"hire_date\": 1985,\n",
    "    \"performance_review\": \"excellent\"\n",
    "  }, {\n",
    "    \"first_name\": \"Michael\", \n",
    "    \"last_name\": \"Bolton\",\n",
    "    \"job_title\": \"Programmer\",\n",
    "    \"hire_date\": 1995,\n",
    "    \"performance_review\": \"poor\"\n",
    "  }, {\n",
    "    \"first_name\": \"Ellesse\", \n",
    "    \"last_name\": \"Jaramillo\",\n",
    "    \"job_title\": \"Programmer\",\n",
    "    \"hire_date\": 1989,\n",
    "    \"performance_review\": \"poor\"\n",
    "  }, {\n",
    "    \"first_name\": \"Samir\", \n",
    "    \"last_name\": \"Nagheenanajar\",\n",
    "    \"job_title\": \"Programmer\",\n",
    "    \"hire_date\": 1974,\n",
    "    \"performance_review\": \"fair\"\n",
    "  }, {\n",
    "    \"first_name\": \"Milton\", \n",
    "    \"last_name\": \"Waddams\",\n",
    "    \"job_title\": \"Collator\",\n",
    "    \"hire_date\": 1974,\n",
    "    \"performance_review\": \"does he even work here?\"\n",
    "  }, {\n",
    "    \"first_name\": \"Bob\", \n",
    "    \"last_name\": \"Porter\",\n",
    "    \"job_title\": \"Consultant\",\n",
    "    \"hire_date\": 1999,\n",
    "    \"performance_review\": \"excellent\"\n",
    "  }, {\n",
    "    \"first_name\": \"Bob\", \n",
    "    \"last_name\": \"Slydell\",\n",
    "    \"job_title\": \"Consultant\",\n",
    "    \"hire_date\": 1999,\n",
    "    \"performance_review\": \"excellent\"\n",
    "  }\n",
    "]\n"
   ]
  },
  {
   "cell_type": "code",
   "execution_count": 2,
   "metadata": {},
   "outputs": [
    {
     "name": "stdout",
     "output_type": "stream",
     "text": [
      "{'first_name': 'Hennah', 'last_name': 'Chadwick', 'job_title': 'Vice President', 'hire_date': 1985, 'performance_review': 'excellent'}\n",
      "{'first_name': 'Michael', 'last_name': 'Bolton', 'job_title': 'Programmer', 'hire_date': 1995, 'performance_review': 'poor'}\n",
      "{'first_name': 'Ellesse', 'last_name': 'Jaramillo', 'job_title': 'Programmer', 'hire_date': 1989, 'performance_review': 'poor'}\n",
      "{'first_name': 'Samir', 'last_name': 'Nagheenanajar', 'job_title': 'Programmer', 'hire_date': 1974, 'performance_review': 'fair'}\n",
      "{'first_name': 'Milton', 'last_name': 'Waddams', 'job_title': 'Collator', 'hire_date': 1974, 'performance_review': 'does he even work here?'}\n",
      "{'first_name': 'Bob', 'last_name': 'Porter', 'job_title': 'Consultant', 'hire_date': 1999, 'performance_review': 'excellent'}\n",
      "{'first_name': 'Bob', 'last_name': 'Slydell', 'job_title': 'Consultant', 'hire_date': 1999, 'performance_review': 'excellent'}\n"
     ]
    }
   ],
   "source": [
    "for employee in employees:\n",
    "    print(employee)"
   ]
  },
  {
   "cell_type": "code",
   "execution_count": 3,
   "metadata": {},
   "outputs": [],
   "source": [
    "file = open('employees.csv', 'w', newline='')"
   ]
  },
  {
   "cell_type": "code",
   "execution_count": 5,
   "metadata": {},
   "outputs": [],
   "source": [
    "?file.write"
   ]
  },
  {
   "cell_type": "code",
   "execution_count": 6,
   "metadata": {},
   "outputs": [
    {
     "name": "stdout",
     "output_type": "stream",
     "text": [
      "hello\n",
      "\n",
      "goodbye\n"
     ]
    }
   ],
   "source": [
    "print(\"hello\\n\\ngoodbye\")"
   ]
  },
  {
   "cell_type": "code",
   "execution_count": 8,
   "metadata": {},
   "outputs": [],
   "source": [
    "# setup do not run\n",
    "with open('employees.csv', 'w', newline='') as file:\n",
    "    # write header row\n",
    "    file.write(\"first_name, last_name, action\\n\")"
   ]
  },
  {
   "cell_type": "code",
   "execution_count": 9,
   "metadata": {},
   "outputs": [
    {
     "name": "stdout",
     "output_type": "stream",
     "text": [
      "Hennah,Chadwick,bonus\n",
      "\n",
      "Michael,Bolton,say goodbye\n",
      "\n",
      "Ellesse,Jaramillo,say goodbye\n",
      "\n",
      "Samir,Nagheenanajar,attend workshop\n",
      "\n",
      "Milton,Waddams,attend workshop\n",
      "\n",
      "Bob,Porter,bonus\n",
      "\n",
      "Bob,Slydell,bonus\n",
      "\n"
     ]
    }
   ],
   "source": [
    "# A. Write the above list of dictionaries to a csv file\n",
    "# what if we want a header\n",
    "with open('employees.csv', 'a', newline='') as file:\n",
    "    for employee in employees:\n",
    "        action_item = \"\"\n",
    "        if employee[\"performance_review\"]==\"poor\":\n",
    "            action_item = \"say goodbye\"\n",
    "        elif employee[\"performance_review\"]==\"excellent\":\n",
    "            action_item = \"bonus\"\n",
    "        else:\n",
    "            action_item = \"attend workshop\"\n",
    "        print(f\"{employee['first_name']},{employee['last_name']},{action_item}\\n\")\n",
    "        file.write(f\"{employee['first_name']},{employee['last_name']},{action_item}\\n\")\n",
    "    \n",
    "#    Include a column named \"action_item\" with the following logic:\n",
    "#    If the performance_review is \"poor\" the action_item should be \"terminate\"\n",
    "#    If the performance_review is \"excellent\" the action_item should be \"bonus\"\n",
    "#    Otherwise, the action_item should be \"attend GA workshop\""
   ]
  },
  {
   "cell_type": "code",
   "execution_count": 10,
   "metadata": {},
   "outputs": [],
   "source": [
    "import os"
   ]
  },
  {
   "cell_type": "code",
   "execution_count": 15,
   "metadata": {},
   "outputs": [
    {
     "data": {
      "text/plain": [
       "True"
      ]
     },
     "execution_count": 15,
     "metadata": {},
     "output_type": "execute_result"
    }
   ],
   "source": [
    "os.path.exists(\"./rock_paper_scissors_results.csv\")"
   ]
  },
  {
   "cell_type": "code",
   "execution_count": 14,
   "metadata": {},
   "outputs": [],
   "source": [
    "with open(\"./rock_paper_scissors_results.csv\", \"w\", newline=\"\") as file:\n",
    "    # A. Use csv.DictWriter to write the headings into the file\n",
    "    file.write(f\"{headings[0]},{headings[1]},{headings[2]}\\n\")"
   ]
  },
  {
   "cell_type": "code",
   "execution_count": 13,
   "metadata": {},
   "outputs": [],
   "source": [
    "headings = [\"player_choice\", \"computer_choice\", \"result\"]\n",
    "if not os.path.exists(\"./rock_paper_scissors_results.csv\"):\n",
    "    with open(\"./rock_paper_scissors_results.csv\", \"w\", newline=\"\") as file:\n",
    "        # A. Use csv.DictWriter to write the headings into the file\n",
    "        file.write(f\"{headings[0]},{headings[1]},{headings[2]}\\n\")"
   ]
  },
  {
   "cell_type": "code",
   "execution_count": null,
   "metadata": {},
   "outputs": [],
   "source": [
    "headings = [\"player_choice\", \"computer_choice\", \"result\"]\n",
    "def store_result(player_choice, computer_choice, result, file):\n",
    "    # B. This function should write game results \n",
    "    # to the csv file using csv.DictWriter\n",
    "\n",
    "    row = {\n",
    "        'player_choice':,player_choice\n",
    "        'computer_choice':computer_choice,\n",
    "        'result':result\n",
    "    }\n",
    "    csv_writer = csv.DictWrite(file,headings)\n",
    "    csv_writer.writerow(row)"
   ]
  },
  {
   "cell_type": "code",
   "execution_count": 16,
   "metadata": {},
   "outputs": [],
   "source": [
    "import csv\n",
    "?csv.DictWriter\n",
    "# with open('names.csv', 'w', newline='') as csvfile:\n",
    "    fieldnames = ['first_name', 'last_name']\n",
    "    writer = csv.DictWriter(csvfile, fieldnames=fieldnames)\n",
    "\n",
    "    writer.writeheader()\n",
    "    writer.writerow({'first_name': 'Baked', 'last_name': 'Beans'})\n",
    "    writer.writerow({'first_name': 'Lovely', 'last_name': 'Spam'})\n",
    "    writer.writerow({'first_name': 'Wonderful', 'last_name': 'Spam'})"
   ]
  },
  {
   "cell_type": "code",
   "execution_count": null,
   "metadata": {},
   "outputs": [],
   "source": [
    "# 6.5 Stretch Goal: Ultimate RPS Challenge\n",
    "# Complete the following game to create \n",
    "# csv records of each round's results\n",
    "import random\n",
    "import csv\n",
    "import os\n",
    "choices = [\"rock\", \"paper\", \"scissors\"]\n",
    "headings = [\"player_choice\", \"computer_choice\", \"result\"]\n",
    "\n",
    "# This is the logic to create the results csv if it doesn't exist already\n",
    "if not os.path.exists(\"./rock_paper_scissors_results.csv\"):\n",
    "    with open(\"./rock_paper_scissors_results.csv\", \"w\") as file:\n",
    "        # A. Use csv.DictWriter to write the headings into the file\n",
    "        file.write(f\"{headings[0]},{headings[1]},{headings[2]}\\n\")\n",
    "        \n",
    "def store_result(player_choice, computer_choice, result, file):\n",
    "    # B. This function should write game results to the csv file using csv.DictWriter\n",
    "    row = {\n",
    "        'player_choice':,player_choice\n",
    "        'computer_choice':computer_choice,\n",
    "        'result':result\n",
    "    }\n",
    "    csv_writer = csv.DictWrite(file,headings)\n",
    "    csv_writer.writerow(row)\n",
    "    \n",
    "with open(\"./rock_paper_scissors_results.csv\", \"a+\") as file:\n",
    "    current_choice = \"\"\n",
    "    print(\"Welcome to the arena of RPS!\")\n",
    "    while(current_choice != \"q\"):\n",
    "        # C. Solicit the user's input of the three choices. Include a choice to hit q to quit as well.\n",
    "        \n",
    "        # D. Set a variable named computer_choice equal to a random choice from the choices list\n",
    "\n",
    "        if(current_choice == \"rock\"):\n",
    "            if(computer_choice == \"paper\"):\n",
    "                store_result(current_choice, computer_choice, \"loss\", file)\n",
    "            elif(computer_choice == \"scissors\"):\n",
    "                store_result(current_choice, computer_choice, \"win\", file)\n",
    "            else:\n",
    "                store_result(current_choice, computer_choice, \"tie\", file)\n",
    "        elif(current_choice == \"paper\"):\n",
    "            if(computer_choice == \"scissors\"):\n",
    "                store_result(current_choice, computer_choice, \"loss\", file)\n",
    "            elif(computer_choice == \"rock\"):\n",
    "                store_result(current_choice, computer_choice, \"win\", file)\n",
    "            else:\n",
    "                store_result(current_choice, computer_choice, \"tie\", file)\n",
    "        elif(current_choice == \"scissors\"):\n",
    "            if(computer_choice == \"rock\"):\n",
    "                store_result(current_choice, computer_choice, \"loss\", file)\n",
    "            elif(computer_choice == \"paper\"):\n",
    "                store_result(current_choice, computer_choice, \"win\", file)\n",
    "            else:\n",
    "                store_result(current_choice, computer_choice, \"tie\", file)\n",
    "        elif(current_choice != \"q\"):\n",
    "            print(\"Invalid choice! Try again.\")\n",
    "            \n",
    "\n",
    "with open(\"./rock_paper_scissors_results.csv\", \"r\") as file:\n",
    "    wins = 0\n",
    "    losses = 0\n",
    "    # E. Analyze the csv of results by counting how many wins and losses there have been using csv.DictReader\n",
    "    #    Print a message listing the total wins and losses in the csv\n"
   ]
  }
 ],
 "metadata": {
  "kernelspec": {
   "display_name": "pps19anz",
   "language": "python",
   "name": "pps19anz"
  },
  "language_info": {
   "codemirror_mode": {
    "name": "ipython",
    "version": 3
   },
   "file_extension": ".py",
   "mimetype": "text/x-python",
   "name": "python",
   "nbconvert_exporter": "python",
   "pygments_lexer": "ipython3",
   "version": "3.11.7"
  }
 },
 "nbformat": 4,
 "nbformat_minor": 4
}
